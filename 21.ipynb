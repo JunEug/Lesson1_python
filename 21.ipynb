{
 "cells": [
  {
   "cell_type": "code",
   "execution_count": 2,
   "id": "2dc02b67",
   "metadata": {},
   "outputs": [],
   "source": [
    "dates = {'The Moscow Times' : \"Wednesday, October 2, 2002\", 'The Guardian' : \"Friday, 11.10.13\", 'Daily News' : \"Thursday, 18 August 1977\"}"
   ]
  },
  {
   "cell_type": "code",
   "execution_count": 1,
   "id": "8e5378b8",
   "metadata": {},
   "outputs": [],
   "source": [
    "from datetime import datetime, date, time"
   ]
  },
  {
   "cell_type": "code",
   "execution_count": 5,
   "id": "243568a4",
   "metadata": {},
   "outputs": [],
   "source": [
    "\n",
    "date1 = \"Wednesday, October 2, 2002\"\n",
    "date2 = \"Friday, 11.10.13\"\n",
    "date3 = \"Thursday, 18 August 1977\""
   ]
  },
  {
   "cell_type": "code",
   "execution_count": 7,
   "id": "fe368cb5",
   "metadata": {},
   "outputs": [
    {
     "ename": "AttributeError",
     "evalue": "type object 'datetime.datetime' has no attribute 'strip'",
     "output_type": "error",
     "traceback": [
      "\u001b[1;31m---------------------------------------------------------------------------\u001b[0m",
      "\u001b[1;31mAttributeError\u001b[0m                            Traceback (most recent call last)",
      "Cell \u001b[1;32mIn[7], line 1\u001b[0m\n\u001b[1;32m----> 1\u001b[0m date_time1 \u001b[38;5;241m=\u001b[39m datetime\u001b[38;5;241m.\u001b[39mstrip((date1, \u001b[38;5;124m\"\u001b[39m\u001b[38;5;132;01m%d\u001b[39;00m\u001b[38;5;124m \u001b[39m\u001b[38;5;124m%\u001b[39m\u001b[38;5;124mb \u001b[39m\u001b[38;5;124m%\u001b[39m\u001b[38;5;124mY\u001b[39m\u001b[38;5;124m\"\u001b[39m) \u001b[38;5;28;01mfor\u001b[39;00m date \u001b[38;5;129;01min\u001b[39;00m date1)\n\u001b[0;32m      2\u001b[0m \u001b[38;5;28mprint\u001b[39m(date_time1)\n",
      "\u001b[1;31mAttributeError\u001b[0m: type object 'datetime.datetime' has no attribute 'strip'"
     ]
    }
   ],
   "source": [
    "date_time1 = datetime.strip(date1, \"%d %b %Y\")"
   ]
  },
  {
   "cell_type": "code",
   "execution_count": null,
   "id": "68d29f02",
   "metadata": {},
   "outputs": [],
   "source": []
  }
 ],
 "metadata": {
  "kernelspec": {
   "display_name": "Python 3 (ipykernel)",
   "language": "python",
   "name": "python3"
  },
  "language_info": {
   "codemirror_mode": {
    "name": "ipython",
    "version": 3
   },
   "file_extension": ".py",
   "mimetype": "text/x-python",
   "name": "python",
   "nbconvert_exporter": "python",
   "pygments_lexer": "ipython3",
   "version": "3.11.5"
  }
 },
 "nbformat": 4,
 "nbformat_minor": 5
}
