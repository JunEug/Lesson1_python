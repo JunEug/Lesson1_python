{
 "cells": [
  {
   "cell_type": "code",
   "execution_count": 32,
   "id": "5ad81eca",
   "metadata": {},
   "outputs": [],
   "source": [
    "import json\n",
    "import csv\n"
   ]
  },
  {
   "cell_type": "code",
   "execution_count": 30,
   "id": "d87452af",
   "metadata": {},
   "outputs": [],
   "source": [
    "d = {}\n",
    "\n",
    "with open('purchase_log.txt', encoding=\"UTF-8\") as f:\n",
    "    for line in f:\n",
    "        line = line.strip()\n",
    "        \n",
    "        dict_ = json.loads(line)\n",
    "        d[dict_['user_id']]=dict_['category']\n"
   ]
  },
  {
   "cell_type": "code",
   "execution_count": 40,
   "id": "fac43db3",
   "metadata": {},
   "outputs": [
    {
     "name": "stderr",
     "output_type": "stream",
     "text": [
      "IOPub data rate exceeded.\n",
      "The notebook server will temporarily stop sending output\n",
      "to the client in order to avoid crashing it.\n",
      "To change this limit, set the config variable\n",
      "`--NotebookApp.iopub_data_rate_limit`.\n",
      "\n",
      "Current values:\n",
      "NotebookApp.iopub_data_rate_limit=1000000.0 (bytes/sec)\n",
      "NotebookApp.rate_limit_window=3.0 (secs)\n",
      "\n"
     ]
    }
   ],
   "source": [
    "d2 = {}\n",
    "\n",
    "with open('visit_log.csv', encoding=\"UTF-8\") as f:\n",
    "    d2 = csv.DictReader(f)\n",
    "    \n",
    "        \n",
    "    dict_ = row\n",
    "    d[dict_['user_id']]=dict_['source']\n",
    "\n",
    "print(d)\n",
    "\n"
   ]
  },
  {
   "cell_type": "code",
   "execution_count": null,
   "id": "20c2b588",
   "metadata": {},
   "outputs": [],
   "source": []
  },
  {
   "cell_type": "code",
   "execution_count": null,
   "id": "ddbe4c39",
   "metadata": {},
   "outputs": [],
   "source": []
  }
 ],
 "metadata": {
  "kernelspec": {
   "display_name": "Python 3 (ipykernel)",
   "language": "python",
   "name": "python3"
  },
  "language_info": {
   "codemirror_mode": {
    "name": "ipython",
    "version": 3
   },
   "file_extension": ".py",
   "mimetype": "text/x-python",
   "name": "python",
   "nbconvert_exporter": "python",
   "pygments_lexer": "ipython3",
   "version": "3.11.5"
  }
 },
 "nbformat": 4,
 "nbformat_minor": 5
}
